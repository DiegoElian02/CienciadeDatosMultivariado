{
 "cells": [
  {
   "cell_type": "code",
   "execution_count": 47,
   "metadata": {},
   "outputs": [],
   "source": [
    "from unicodedata import east_asian_width\n",
    "import pandas as pd\n",
    "import numpy as np\n",
    "import matplotlib.pyplot as plt"
   ]
  },
  {
   "cell_type": "code",
   "execution_count": 39,
   "metadata": {},
   "outputs": [],
   "source": [
    "estaciones = pd.ExcelFile(\"Estaciones.xlsx\")\n",
    "dfNorte2 =pd.read_excel(estaciones, 'PM10')[['date', 'Norte2']]\n",
    "\n",
    "for i in estaciones.sheet_names:\n",
    "    union = pd.read_excel(estaciones, str(i))\n",
    "    union.rename(columns={'Norte2':'Norte2_'+str(i)}, inplace=True)\n",
    "    dfNorte2 = pd.merge(dfNorte2, union[['date', 'Norte2_'+str(i)]], on = 'date')\n"
   ]
  },
  {
   "cell_type": "code",
   "execution_count": 56,
   "metadata": {},
   "outputs": [
    {
     "ename": "TypeError",
     "evalue": "Value after * must be an iterable, not int",
     "output_type": "error",
     "traceback": [
      "\u001b[1;31m---------------------------------------------------------------------------\u001b[0m",
      "\u001b[1;31mTypeError\u001b[0m                                 Traceback (most recent call last)",
      "\u001b[1;32mc:\\Users\\elian\\OneDrive\\Escritorio\\TEC\\5to semestre\\métodos de métodos multivariados ciencia de datos\\reto\\Datacleaning.ipynb Celda 3\u001b[0m in \u001b[0;36m<cell line: 1>\u001b[1;34m()\u001b[0m\n\u001b[1;32m----> <a href='vscode-notebook-cell:/c%3A/Users/elian/OneDrive/Escritorio/TEC/5to%20semestre/m%C3%A9todos%20de%20m%C3%A9todos%20multivariados%20ciencia%20de%20datos/reto/Datacleaning.ipynb#W1sZmlsZQ%3D%3D?line=0'>1</a>\u001b[0m fig \u001b[39m=\u001b[39m plt\u001b[39m.\u001b[39;49mfigure(\u001b[39m10\u001b[39;49m,\u001b[39m7\u001b[39;49m)\n\u001b[0;32m      <a href='vscode-notebook-cell:/c%3A/Users/elian/OneDrive/Escritorio/TEC/5to%20semestre/m%C3%A9todos%20de%20m%C3%A9todos%20multivariados%20ciencia%20de%20datos/reto/Datacleaning.ipynb#W1sZmlsZQ%3D%3D?line=1'>2</a>\u001b[0m fig \u001b[39m=\u001b[39m plt\u001b[39m.\u001b[39mboxplot(dfNorte2[\u001b[39m'\u001b[39m\u001b[39mNorte2_SO2\u001b[39m\u001b[39m'\u001b[39m])\n\u001b[0;32m      <a href='vscode-notebook-cell:/c%3A/Users/elian/OneDrive/Escritorio/TEC/5to%20semestre/m%C3%A9todos%20de%20m%C3%A9todos%20multivariados%20ciencia%20de%20datos/reto/Datacleaning.ipynb#W1sZmlsZQ%3D%3D?line=2'>3</a>\u001b[0m plt\u001b[39m.\u001b[39mshow()\n",
      "File \u001b[1;32mc:\\Users\\elian\\anaconda3\\lib\\site-packages\\matplotlib\\pyplot.py:787\u001b[0m, in \u001b[0;36mfigure\u001b[1;34m(num, figsize, dpi, facecolor, edgecolor, frameon, FigureClass, clear, **kwargs)\u001b[0m\n\u001b[0;32m    778\u001b[0m \u001b[39mif\u001b[39;00m \u001b[39mlen\u001b[39m(allnums) \u001b[39m==\u001b[39m max_open_warning \u001b[39m>\u001b[39m\u001b[39m=\u001b[39m \u001b[39m1\u001b[39m:\n\u001b[0;32m    779\u001b[0m     _api\u001b[39m.\u001b[39mwarn_external(\n\u001b[0;32m    780\u001b[0m         \u001b[39mf\u001b[39m\u001b[39m\"\u001b[39m\u001b[39mMore than \u001b[39m\u001b[39m{\u001b[39;00mmax_open_warning\u001b[39m}\u001b[39;00m\u001b[39m figures have been opened. \u001b[39m\u001b[39m\"\u001b[39m\n\u001b[0;32m    781\u001b[0m         \u001b[39mf\u001b[39m\u001b[39m\"\u001b[39m\u001b[39mFigures created through the pyplot interface \u001b[39m\u001b[39m\"\u001b[39m\n\u001b[1;32m   (...)\u001b[0m\n\u001b[0;32m    784\u001b[0m         \u001b[39mf\u001b[39m\u001b[39m\"\u001b[39m\u001b[39mwarning, see the rcParam `figure.max_open_warning`).\u001b[39m\u001b[39m\"\u001b[39m,\n\u001b[0;32m    785\u001b[0m         \u001b[39mRuntimeWarning\u001b[39;00m)\n\u001b[1;32m--> 787\u001b[0m manager \u001b[39m=\u001b[39m new_figure_manager(\n\u001b[0;32m    788\u001b[0m     num, figsize\u001b[39m=\u001b[39mfigsize, dpi\u001b[39m=\u001b[39mdpi,\n\u001b[0;32m    789\u001b[0m     facecolor\u001b[39m=\u001b[39mfacecolor, edgecolor\u001b[39m=\u001b[39medgecolor, frameon\u001b[39m=\u001b[39mframeon,\n\u001b[0;32m    790\u001b[0m     FigureClass\u001b[39m=\u001b[39mFigureClass, \u001b[39m*\u001b[39m\u001b[39m*\u001b[39mkwargs)\n\u001b[0;32m    791\u001b[0m fig \u001b[39m=\u001b[39m manager\u001b[39m.\u001b[39mcanvas\u001b[39m.\u001b[39mfigure\n\u001b[0;32m    792\u001b[0m \u001b[39mif\u001b[39;00m fig_label:\n",
      "File \u001b[1;32mc:\\Users\\elian\\anaconda3\\lib\\site-packages\\matplotlib\\pyplot.py:306\u001b[0m, in \u001b[0;36mnew_figure_manager\u001b[1;34m(*args, **kwargs)\u001b[0m\n\u001b[0;32m    304\u001b[0m \u001b[39m\"\"\"Create a new figure manager instance.\"\"\"\u001b[39;00m\n\u001b[0;32m    305\u001b[0m _warn_if_gui_out_of_main_thread()\n\u001b[1;32m--> 306\u001b[0m \u001b[39mreturn\u001b[39;00m _backend_mod\u001b[39m.\u001b[39mnew_figure_manager(\u001b[39m*\u001b[39margs, \u001b[39m*\u001b[39m\u001b[39m*\u001b[39mkwargs)\n",
      "File \u001b[1;32mc:\\Users\\elian\\anaconda3\\lib\\site-packages\\matplotlib\\backend_bases.py:3493\u001b[0m, in \u001b[0;36m_Backend.new_figure_manager\u001b[1;34m(cls, num, *args, **kwargs)\u001b[0m\n\u001b[0;32m   3491\u001b[0m \u001b[39mfrom\u001b[39;00m \u001b[39mmatplotlib\u001b[39;00m\u001b[39m.\u001b[39;00m\u001b[39mfigure\u001b[39;00m \u001b[39mimport\u001b[39;00m Figure\n\u001b[0;32m   3492\u001b[0m fig_cls \u001b[39m=\u001b[39m kwargs\u001b[39m.\u001b[39mpop(\u001b[39m'\u001b[39m\u001b[39mFigureClass\u001b[39m\u001b[39m'\u001b[39m, Figure)\n\u001b[1;32m-> 3493\u001b[0m fig \u001b[39m=\u001b[39m fig_cls(\u001b[39m*\u001b[39margs, \u001b[39m*\u001b[39m\u001b[39m*\u001b[39mkwargs)\n\u001b[0;32m   3494\u001b[0m \u001b[39mreturn\u001b[39;00m \u001b[39mcls\u001b[39m\u001b[39m.\u001b[39mnew_figure_manager_given_figure(num, fig)\n",
      "File \u001b[1;32mc:\\Users\\elian\\anaconda3\\lib\\site-packages\\matplotlib\\figure.py:2282\u001b[0m, in \u001b[0;36mFigure.__init__\u001b[1;34m(self, figsize, dpi, facecolor, edgecolor, linewidth, frameon, subplotpars, tight_layout, constrained_layout, layout, **kwargs)\u001b[0m\n\u001b[0;32m   2279\u001b[0m \u001b[39mif\u001b[39;00m \u001b[39mnot\u001b[39;00m np\u001b[39m.\u001b[39misfinite(figsize)\u001b[39m.\u001b[39mall() \u001b[39mor\u001b[39;00m (np\u001b[39m.\u001b[39marray(figsize) \u001b[39m<\u001b[39m \u001b[39m0\u001b[39m)\u001b[39m.\u001b[39many():\n\u001b[0;32m   2280\u001b[0m     \u001b[39mraise\u001b[39;00m \u001b[39mValueError\u001b[39;00m(\u001b[39m'\u001b[39m\u001b[39mfigure size must be positive finite not \u001b[39m\u001b[39m'\u001b[39m\n\u001b[0;32m   2281\u001b[0m                      \u001b[39mf\u001b[39m\u001b[39m'\u001b[39m\u001b[39m{\u001b[39;00mfigsize\u001b[39m}\u001b[39;00m\u001b[39m'\u001b[39m)\n\u001b[1;32m-> 2282\u001b[0m \u001b[39mself\u001b[39m\u001b[39m.\u001b[39mbbox_inches \u001b[39m=\u001b[39m Bbox\u001b[39m.\u001b[39mfrom_bounds(\u001b[39m0\u001b[39m, \u001b[39m0\u001b[39m, \u001b[39m*\u001b[39mfigsize)\n\u001b[0;32m   2284\u001b[0m \u001b[39mself\u001b[39m\u001b[39m.\u001b[39mdpi_scale_trans \u001b[39m=\u001b[39m Affine2D()\u001b[39m.\u001b[39mscale(dpi)\n\u001b[0;32m   2285\u001b[0m \u001b[39m# do not use property as it will trigger\u001b[39;00m\n",
      "\u001b[1;31mTypeError\u001b[0m: Value after * must be an iterable, not int"
     ]
    }
   ],
   "source": [
    "fig = plt.figure(10,7)\n",
    "fig = plt.boxplot(dfNorte2['Norte2_SO2'])\n",
    "plt.show()\n"
   ]
  },
  {
   "cell_type": "code",
   "execution_count": 29,
   "metadata": {},
   "outputs": [
    {
     "data": {
      "text/html": [
       "<div>\n",
       "<style scoped>\n",
       "    .dataframe tbody tr th:only-of-type {\n",
       "        vertical-align: middle;\n",
       "    }\n",
       "\n",
       "    .dataframe tbody tr th {\n",
       "        vertical-align: top;\n",
       "    }\n",
       "\n",
       "    .dataframe thead th {\n",
       "        text-align: right;\n",
       "    }\n",
       "</style>\n",
       "<table border=\"1\" class=\"dataframe\">\n",
       "  <thead>\n",
       "    <tr style=\"text-align: right;\">\n",
       "      <th></th>\n",
       "      <th>date</th>\n",
       "      <th>Norte2_x</th>\n",
       "      <th>Norte2_y</th>\n",
       "    </tr>\n",
       "  </thead>\n",
       "  <tbody>\n",
       "    <tr>\n",
       "      <th>0</th>\n",
       "      <td>2018-01-01 00:00:00.000</td>\n",
       "      <td>NaN</td>\n",
       "      <td>NaN</td>\n",
       "    </tr>\n",
       "    <tr>\n",
       "      <th>1</th>\n",
       "      <td>2018-01-01 01:00:00.000</td>\n",
       "      <td>20.0</td>\n",
       "      <td>NaN</td>\n",
       "    </tr>\n",
       "    <tr>\n",
       "      <th>2</th>\n",
       "      <td>2018-01-01 02:00:00.000</td>\n",
       "      <td>29.0</td>\n",
       "      <td>25.0</td>\n",
       "    </tr>\n",
       "    <tr>\n",
       "      <th>3</th>\n",
       "      <td>2018-01-01 03:00:00.000</td>\n",
       "      <td>26.0</td>\n",
       "      <td>18.0</td>\n",
       "    </tr>\n",
       "    <tr>\n",
       "      <th>4</th>\n",
       "      <td>2018-01-01 04:00:00.000</td>\n",
       "      <td>NaN</td>\n",
       "      <td>11.0</td>\n",
       "    </tr>\n",
       "    <tr>\n",
       "      <th>...</th>\n",
       "      <td>...</td>\n",
       "      <td>...</td>\n",
       "      <td>...</td>\n",
       "    </tr>\n",
       "    <tr>\n",
       "      <th>31915</th>\n",
       "      <td>2021-08-25 19:00:00.000</td>\n",
       "      <td>68.0</td>\n",
       "      <td>11.0</td>\n",
       "    </tr>\n",
       "    <tr>\n",
       "      <th>31916</th>\n",
       "      <td>2021-08-25 20:00:00.000</td>\n",
       "      <td>60.0</td>\n",
       "      <td>NaN</td>\n",
       "    </tr>\n",
       "    <tr>\n",
       "      <th>31917</th>\n",
       "      <td>2021-08-25 21:00:00.000</td>\n",
       "      <td>42.0</td>\n",
       "      <td>3.0</td>\n",
       "    </tr>\n",
       "    <tr>\n",
       "      <th>31918</th>\n",
       "      <td>2021-08-25 22:00:00.000</td>\n",
       "      <td>29.0</td>\n",
       "      <td>3.0</td>\n",
       "    </tr>\n",
       "    <tr>\n",
       "      <th>31919</th>\n",
       "      <td>2021-08-25 23:00:00.000</td>\n",
       "      <td>40.0</td>\n",
       "      <td>10.0</td>\n",
       "    </tr>\n",
       "  </tbody>\n",
       "</table>\n",
       "<p>31920 rows × 3 columns</p>\n",
       "</div>"
      ],
      "text/plain": [
       "                          date  Norte2_x  Norte2_y\n",
       "0      2018-01-01 00:00:00.000       NaN       NaN\n",
       "1      2018-01-01 01:00:00.000      20.0       NaN\n",
       "2      2018-01-01 02:00:00.000      29.0      25.0\n",
       "3      2018-01-01 03:00:00.000      26.0      18.0\n",
       "4      2018-01-01 04:00:00.000       NaN      11.0\n",
       "...                        ...       ...       ...\n",
       "31915  2021-08-25 19:00:00.000      68.0      11.0\n",
       "31916  2021-08-25 20:00:00.000      60.0       NaN\n",
       "31917  2021-08-25 21:00:00.000      42.0       3.0\n",
       "31918  2021-08-25 22:00:00.000      29.0       3.0\n",
       "31919  2021-08-25 23:00:00.000      40.0      10.0\n",
       "\n",
       "[31920 rows x 3 columns]"
      ]
     },
     "execution_count": 29,
     "metadata": {},
     "output_type": "execute_result"
    }
   ],
   "source": [
    "dftotal = pd.merge(pm10_Norte2, pm2_5_Norte2, on=\"date\")\n",
    "dftotal"
   ]
  }
 ],
 "metadata": {
  "kernelspec": {
   "display_name": "Python 3.9.7 ('base')",
   "language": "python",
   "name": "python3"
  },
  "language_info": {
   "codemirror_mode": {
    "name": "ipython",
    "version": 3
   },
   "file_extension": ".py",
   "mimetype": "text/x-python",
   "name": "python",
   "nbconvert_exporter": "python",
   "pygments_lexer": "ipython3",
   "version": "3.9.7"
  },
  "orig_nbformat": 4,
  "vscode": {
   "interpreter": {
    "hash": "f9358f01635aaa8aae510f26f7ad6d28c2c17edde979f59b7532c3bf17de159b"
   }
  }
 },
 "nbformat": 4,
 "nbformat_minor": 2
}
